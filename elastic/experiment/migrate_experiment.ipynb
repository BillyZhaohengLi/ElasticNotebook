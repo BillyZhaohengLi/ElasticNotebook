{
 "cells": [
  {
   "cell_type": "code",
   "execution_count": 1,
   "id": "2cbde244",
   "metadata": {
    "pycharm": {
     "name": "#%%\n"
    }
   },
   "outputs": [],
   "source": [
    "from experiment.migrate import migrate"
   ]
  },
  {
   "cell_type": "code",
   "execution_count": 6,
   "id": "a0e50dce",
   "metadata": {
    "pycharm": {
     "name": "#%%\n"
    }
   },
   "outputs": [],
   "source": [
    "import os, sys\n",
    "sys.path.insert(0, os.path.abspath(\"..\"))\n",
    "from core.common.migration_metadata import MigrationMetadata"
   ]
  },
  {
   "cell_type": "code",
   "execution_count": 7,
   "id": "72a23e31",
   "metadata": {
    "pycharm": {
     "name": "#%%\n"
    }
   },
   "outputs": [],
   "source": [
    "a = 100"
   ]
  },
  {
   "cell_type": "code",
   "execution_count": 8,
   "id": "5eea47c5",
   "metadata": {
    "pycharm": {
     "name": "#%%\n"
    }
   },
   "outputs": [],
   "source": [
    "metadata = MigrationMetadata().with_recompute_code(\"\").with_objects_migrated(\n",
    "    {\"./obj_{}\".format(id(a)): \"a\"}\n",
    ")"
   ]
  },
  {
   "cell_type": "code",
   "execution_count": 10,
   "id": "4277fb9b",
   "metadata": {
    "pycharm": {
     "name": "#%%\n"
    }
   },
   "outputs": [],
   "source": [
    "from core.io.external_storage import ExternalStorage\n",
    "from core.io.filesystem_adapter import FilesystemAdapter"
   ]
  },
  {
   "cell_type": "code",
   "execution_count": 11,
   "id": "a1869059",
   "metadata": {
    "pycharm": {
     "name": "#%%\n"
    }
   },
   "outputs": [],
   "source": [
    "storage = ExternalStorage()\n",
    "storage.register(\"local\", FilesystemAdapter())"
   ]
  },
  {
   "cell_type": "code",
   "execution_count": 18,
   "id": "2a476e0d",
   "metadata": {
    "pycharm": {
     "name": "#%%\n"
    }
   },
   "outputs": [
    {
     "ename": "AttributeError",
     "evalue": "'MigrationMetadata' object has no attribute 'write_all'",
     "output_type": "error",
     "traceback": [
      "\u001B[0;31m---------------------------------------------------------------------------\u001B[0m",
      "\u001B[0;31mAttributeError\u001B[0m                            Traceback (most recent call last)",
      "Input \u001B[0;32mIn [18]\u001B[0m, in \u001B[0;36m<cell line: 1>\u001B[0;34m()\u001B[0m\n\u001B[0;32m----> 1\u001B[0m \u001B[43mmigrate\u001B[49m\u001B[43m(\u001B[49m\u001B[43m[\u001B[49m\u001B[43ma\u001B[49m\u001B[43m]\u001B[49m\u001B[43m,\u001B[49m\u001B[43m \u001B[49m\u001B[38;5;124;43m\"\u001B[39;49m\u001B[38;5;124;43m\"\u001B[39;49m\u001B[43m,\u001B[49m\u001B[43m \u001B[49m\u001B[43mmetadata\u001B[49m\u001B[43m,\u001B[49m\u001B[43m \u001B[49m\u001B[43mstorage\u001B[49m\u001B[43m)\u001B[49m\n",
      "File \u001B[0;32m~/elastic_notebook/elastic-notebook/elastic/experiment/migrate.py:46\u001B[0m, in \u001B[0;36mmigrate\u001B[0;34m(objects_to_migrate, code_to_migrate, storage, context_items)\u001B[0m\n\u001B[1;32m     43\u001B[0m obj_path \u001B[38;5;241m=\u001B[39m \u001B[38;5;124m\"\u001B[39m\u001B[38;5;132;01m{}\u001B[39;00m\u001B[38;5;132;01m{}\u001B[39;00m\u001B[38;5;124m\"\u001B[39m\u001B[38;5;241m.\u001B[39mformat(OBJECT_PATH_PREFIX, \u001B[38;5;28mid\u001B[39m(obj))\n\u001B[1;32m     45\u001B[0m \u001B[38;5;66;03m# FIXME: might be optimizable using batch writes (especially for remote storage using req/resp)\u001B[39;00m\n\u001B[0;32m---> 46\u001B[0m \u001B[43mstorage\u001B[49m\u001B[38;5;241;43m.\u001B[39;49m\u001B[43mwrite_all\u001B[49m(Path(obj_path), obj_pickled)\n\u001B[1;32m     48\u001B[0m \u001B[38;5;66;03m# construct a mapping from object path to a list of all names that reference that object\u001B[39;00m\n\u001B[1;32m     49\u001B[0m \u001B[38;5;66;03m# so that we know what variable name to use at resume time\u001B[39;00m\n\u001B[1;32m     50\u001B[0m objects_migrated[obj_path] \u001B[38;5;241m=\u001B[39m [ k \u001B[38;5;28;01mfor\u001B[39;00m k,v \u001B[38;5;129;01min\u001B[39;00m context_items \u001B[38;5;28;01mif\u001B[39;00m v \u001B[38;5;129;01mis\u001B[39;00m obj ]\n",
      "\u001B[0;31mAttributeError\u001B[0m: 'MigrationMetadata' object has no attribute 'write_all'"
     ]
    }
   ],
   "source": [
    "migrate([a], \"\", metadata, storage)"
   ]
  },
  {
   "cell_type": "code",
   "execution_count": 14,
   "id": "2999bd8a",
   "metadata": {
    "pycharm": {
     "name": "#%%\n"
    }
   },
   "outputs": [
    {
     "name": "stdout",
     "output_type": "stream",
     "text": [
      "__init__.py               migrate_experiment.ipynb  obj_4696823488\r\n",
      "metadata.json             migrate_experiment.py     recover.py\r\n",
      "migrate.py                obj_4404038656            resume_experiment.py\r\n"
     ]
    }
   ],
   "source": [
    "ls"
   ]
  },
  {
   "cell_type": "code",
   "execution_count": 15,
   "id": "313e670e",
   "metadata": {
    "pycharm": {
     "name": "#%%\n"
    }
   },
   "outputs": [
    {
     "name": "stdout",
     "output_type": "stream",
     "text": [
      "{\"objectsMigrated\": {\"./obj_4696823488\": [\"a\"], \"./obj_4404038656\": [\"nn\"]}, \"recomputeCode\": \"\"}"
     ]
    }
   ],
   "source": [
    "cat metadata.json"
   ]
  },
  {
   "cell_type": "code",
   "execution_count": 16,
   "id": "e6ee55c8",
   "metadata": {
    "pycharm": {
     "name": "#%%\n"
    }
   },
   "outputs": [
    {
     "ename": "RuntimeError",
     "evalue": "dictionary changed size during iteration",
     "output_type": "error",
     "traceback": [
      "\u001B[0;31m---------------------------------------------------------------------------\u001B[0m",
      "\u001B[0;31mRuntimeError\u001B[0m                              Traceback (most recent call last)",
      "Input \u001B[0;32mIn [16]\u001B[0m, in \u001B[0;36m<cell line: 2>\u001B[0;34m()\u001B[0m\n\u001B[1;32m      1\u001B[0m glbs \u001B[38;5;241m=\u001B[39m \u001B[38;5;28mglobals\u001B[39m()\u001B[38;5;241m.\u001B[39mitems()\n\u001B[0;32m----> 2\u001B[0m \u001B[38;5;28;01mfor\u001B[39;00m k, v \u001B[38;5;129;01min\u001B[39;00m glbs:\n\u001B[1;32m      3\u001B[0m     \u001B[38;5;28;01mif\u001B[39;00m v \u001B[38;5;129;01mis\u001B[39;00m a:\n\u001B[1;32m      4\u001B[0m         \u001B[38;5;28mprint\u001B[39m(k)\n",
      "\u001B[0;31mRuntimeError\u001B[0m: dictionary changed size during iteration"
     ]
    }
   ],
   "source": [
    "glbs = globals().items()\n",
    "for k, v in glbs:\n",
    "    if v is a:\n",
    "        print(k)"
   ]
  },
  {
   "cell_type": "code",
   "execution_count": 17,
   "id": "4792ecda",
   "metadata": {
    "pycharm": {
     "name": "#%%\n"
    }
   },
   "outputs": [
    {
     "data": {
      "text/plain": "['a']"
     },
     "execution_count": 17,
     "metadata": {},
     "output_type": "execute_result"
    }
   ],
   "source": [
    "[ k for k,v in glbs if v is a ]"
   ]
  },
  {
   "cell_type": "code",
   "execution_count": null,
   "id": "39d46c76",
   "metadata": {
    "pycharm": {
     "name": "#%%\n"
    }
   },
   "outputs": [],
   "source": []
  }
 ],
 "metadata": {
  "kernelspec": {
   "display_name": "Python 3 (ipykernel)",
   "language": "python",
   "name": "python3"
  },
  "language_info": {
   "codemirror_mode": {
    "name": "ipython",
    "version": 3
   },
   "file_extension": ".py",
   "mimetype": "text/x-python",
   "name": "python",
   "nbconvert_exporter": "python",
   "pygments_lexer": "ipython3",
   "version": "3.8.8"
  }
 },
 "nbformat": 4,
 "nbformat_minor": 5
}