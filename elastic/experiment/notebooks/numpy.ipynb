{
 "cells": [
  {
   "cell_type": "code",
   "execution_count": 1,
   "metadata": {},
   "outputs": [],
   "source": [
    "import sys, os\n",
    "sys.path.insert(0, os.path.abspath(\"../../..\"))\n",
    "%load_ext ElasticNotebook"
   ]
  },
  {
   "cell_type": "code",
   "execution_count": 2,
   "metadata": {
    "collapsed": false,
    "jupyter": {
     "outputs_hidden": false
    },
    "pycharm": {
     "name": "#%%\n"
    }
   },
   "outputs": [
    {
     "name": "stdout",
     "output_type": "stream",
     "text": [
      "set()\n",
      "{'np': [0, False], 'KNeighborsClassifier': [1, False], 'datasets': [2, False]}\n"
     ]
    }
   ],
   "source": [
    "%%RecordEvent\n",
    "import numpy as np\n",
    "from sklearn import datasets\n",
    "from sklearn.neighbors import KNeighborsClassifier"
   ]
  },
  {
   "cell_type": "code",
   "execution_count": 3,
   "metadata": {
    "pycharm": {
     "name": "#%%\n"
    }
   },
   "outputs": [
    {
     "name": "stdout",
     "output_type": "stream",
     "text": [
      "{'datasets'}\n",
      "{'iris_X': [0, False], 'iris_y': [1, False], 'iris_len': [2, False], 'datasets': [3, True]}\n"
     ]
    }
   ],
   "source": [
    "%%RecordEvent\n",
    "iris_X, iris_y = datasets.load_iris(return_X_y=True)\n",
    "iris_len = len(iris_X)\n",
    "del datasets"
   ]
  },
  {
   "cell_type": "code",
   "execution_count": 4,
   "metadata": {
    "pycharm": {
     "name": "#%%\n"
    }
   },
   "outputs": [
    {
     "name": "stdout",
     "output_type": "stream",
     "text": [
      "{'np'}\n",
      "{'np': [1, False]}\n"
     ]
    }
   ],
   "source": [
    "%%RecordEvent\n",
    "np.random.seed(0)"
   ]
  },
  {
   "cell_type": "code",
   "execution_count": 5,
   "metadata": {
    "pycharm": {
     "name": "#%%\n"
    }
   },
   "outputs": [
    {
     "name": "stdout",
     "output_type": "stream",
     "text": [
      "{'np', 'iris_len', 'iris_y', 'iris_X'}\n",
      "{'np': [6, False], 'iris_X_test': [1, False], 'iris_y_train': [2, False], 'iris_y_test': [3, False], 'indices': [4, False], 'iris_X_train': [5, False], 'iris_X': [7, False], 'iris_y': [8, False]}\n"
     ]
    }
   ],
   "source": [
    "%%RecordEvent\n",
    "indices = np.random.permutation(iris_len)\n",
    "iris_X_train = iris_X[indices[:-10]]\n",
    "iris_y_train = iris_y[indices[:-10]]\n",
    "iris_X_test = iris_X[indices[-10:]]\n",
    "iris_y_test = iris_y[indices[-10:]]"
   ]
  },
  {
   "cell_type": "code",
   "execution_count": 6,
   "metadata": {
    "pycharm": {
     "name": "#%%\n"
    }
   },
   "outputs": [
    {
     "data": {
      "text/plain": [
       "array([1, 2, 1, 0, 0, 0, 2, 1, 2, 0])"
      ]
     },
     "execution_count": 6,
     "metadata": {},
     "output_type": "execute_result"
    },
    {
     "name": "stdout",
     "output_type": "stream",
     "text": [
      "{'iris_y_train', 'KNeighborsClassifier', 'iris_X_train', 'iris_X_test'}\n",
      "{'knn': [0, False], 'iris_X_train': [3, False], 'iris_y_train': [4, False], 'iris_X_test': [6, False]}\n"
     ]
    }
   ],
   "source": [
    "%%RecordEvent\n",
    "knn = KNeighborsClassifier()\n",
    "knn.fit(iris_X_train, iris_y_train)\n",
    "\n",
    "knn.predict(iris_X_test)"
   ]
  },
  {
   "cell_type": "code",
   "execution_count": 7,
   "metadata": {},
   "outputs": [],
   "source": [
    "%SetOptimizer greedy_simple"
   ]
  },
  {
   "cell_type": "code",
   "execution_count": 8,
   "metadata": {},
   "outputs": [
    {
     "name": "stdout",
     "output_type": "stream",
     "text": [
      "monitor overhead: 0.0013043880462646484\n",
      "storage overhead: 10051\n",
      "migration speed (bps): 2044999717.8813162\n",
      "---------------------------\n",
      "variables to migrate:\n",
      "['knn', 'np', 'iris_y', 'iris_y_train', 'iris_len', 'iris_X', 'iris_y_test', 'iris_X_test', 'KNeighborsClassifier', 'indices', 'iris_X_train']\n",
      "---------------------------\n",
      "variables to recompute:\n",
      "[]\n",
      "---------------------------\n",
      "cells to recompute:\n",
      "[]\n",
      "Checkpoint saved to: /data/elastic-notebook/tmp/test.pkl\n"
     ]
    },
    {
     "name": "stderr",
     "output_type": "stream",
     "text": [
      "/home/zl20/elastic-notebook/elastic/core/io/pickle.py:36: DeprecationWarning: Please use `csr_matrix` from the `scipy.sparse` namespace, the `scipy.sparse.csr` namespace is deprecated.\n",
      "  exceptions = [pd.core.frame.DataFrame, pl.DataFrame, sparse.csr.csr_matrix]\n",
      "/home/zl20/elastic-notebook/elastic/core/io/pickle.py:36: DeprecationWarning: Please use `csr_matrix` from the `scipy.sparse` namespace, the `scipy.sparse.csr` namespace is deprecated.\n",
      "  exceptions = [pd.core.frame.DataFrame, pl.DataFrame, sparse.csr.csr_matrix]\n",
      "/home/zl20/elastic-notebook/elastic/core/io/filesystem_adapter.py:21: ResourceWarning: unclosed file <_io.BufferedWriter name='/data/elastic-notebook/tmp/test.pkl'>\n",
      "  dill.dump(buf, open(path, \"wb\"))\n",
      "ResourceWarning: Enable tracemalloc to get the object allocation traceback\n"
     ]
    }
   ],
   "source": [
    "%Checkpoint /data/elastic-notebook/tmp/test.pkl"
   ]
  },
  {
   "cell_type": "code",
   "execution_count": null,
   "metadata": {},
   "outputs": [],
   "source": []
  }
 ],
 "metadata": {
  "kernelspec": {
   "display_name": "Python 3 (ipykernel)",
   "language": "python",
   "name": "python3"
  },
  "language_info": {
   "codemirror_mode": {
    "name": "ipython",
    "version": 3
   },
   "file_extension": ".py",
   "mimetype": "text/x-python",
   "name": "python",
   "nbconvert_exporter": "python",
   "pygments_lexer": "ipython3",
   "version": "3.8.10"
  },
  "vscode": {
   "interpreter": {
    "hash": "831878006862ccc20c8644a68163e333be809b5fee14b33e0a32c4838e696fe8"
   }
  }
 },
 "nbformat": 4,
 "nbformat_minor": 4
}
