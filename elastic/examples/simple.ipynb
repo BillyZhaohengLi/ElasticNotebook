{
 "cells": [
  {
   "cell_type": "code",
   "execution_count": 1,
   "metadata": {
    "execution": {
     "iopub.execute_input": "2022-10-24T13:32:01.939271Z",
     "iopub.status.busy": "2022-10-24T13:32:01.938883Z",
     "iopub.status.idle": "2022-10-24T13:32:02.252619Z",
     "shell.execute_reply": "2022-10-24T13:32:02.251823Z",
     "shell.execute_reply.started": "2022-10-24T13:32:01.939247Z"
    },
    "pycharm": {
     "name": "#%%\n"
    },
    "tags": []
   },
   "outputs": [],
   "source": [
    "import sys, os\n",
    "sys.path.insert(0, os.path.abspath(\"../..\"))\n",
    "%load_ext ElasticNotebook"
   ]
  },
  {
   "cell_type": "code",
   "execution_count": 2,
   "metadata": {
    "collapsed": false,
    "execution": {
     "iopub.execute_input": "2022-10-24T13:32:03.875549Z",
     "iopub.status.busy": "2022-10-24T13:32:03.875001Z",
     "iopub.status.idle": "2022-10-24T13:32:03.893254Z",
     "shell.execute_reply": "2022-10-24T13:32:03.892612Z",
     "shell.execute_reply.started": "2022-10-24T13:32:03.875523Z"
    },
    "jupyter": {
     "outputs_hidden": false
    },
    "pycharm": {
     "name": "#%%\n"
    },
    "tags": []
   },
   "outputs": [],
   "source": [
    "%%RecordEvent\n",
    "x = 1"
   ]
  },
  {
   "cell_type": "code",
   "execution_count": 3,
   "metadata": {
    "collapsed": false,
    "execution": {
     "iopub.execute_input": "2022-10-24T13:32:04.434785Z",
     "iopub.status.busy": "2022-10-24T13:32:04.433609Z",
     "iopub.status.idle": "2022-10-24T13:32:04.448579Z",
     "shell.execute_reply": "2022-10-24T13:32:04.447364Z",
     "shell.execute_reply.started": "2022-10-24T13:32:04.434749Z"
    },
    "jupyter": {
     "outputs_hidden": false
    },
    "pycharm": {
     "name": "#%%\n"
    },
    "tags": []
   },
   "outputs": [],
   "source": [
    "%%RecordEvent\n",
    "y = x\n",
    "x = x + 1\n",
    "z = 1\n",
    "a = 1\n",
    "del a\n",
    "a = 2"
   ]
  },
  {
   "cell_type": "code",
   "execution_count": 4,
   "metadata": {
    "collapsed": false,
    "execution": {
     "iopub.execute_input": "2022-10-24T13:32:04.777204Z",
     "iopub.status.busy": "2022-10-24T13:32:04.776389Z",
     "iopub.status.idle": "2022-10-24T13:32:04.789207Z",
     "shell.execute_reply": "2022-10-24T13:32:04.788173Z",
     "shell.execute_reply.started": "2022-10-24T13:32:04.777146Z"
    },
    "jupyter": {
     "outputs_hidden": false
    },
    "pycharm": {
     "name": "#%%\n"
    },
    "tags": []
   },
   "outputs": [],
   "source": [
    "%%RecordEvent\n",
    "# Record imported libraries\n",
    "import numpy as np\n",
    "from numpy import random"
   ]
  },
  {
   "cell_type": "code",
   "execution_count": 5,
   "metadata": {
    "collapsed": false,
    "pycharm": {
     "name": "#%%\n"
    }
   },
   "outputs": [],
   "source": [
    "%%RecordEvent\n",
    "b = 1"
   ]
  },
  {
   "cell_type": "code",
   "execution_count": 6,
   "metadata": {
    "collapsed": false,
    "pycharm": {
     "name": "#%%\n"
    }
   },
   "outputs": [],
   "source": [
    "%%RecordEvent\n",
    "def func():\n",
    "    global b\n",
    "    b += 1\n",
    "func()"
   ]
  },
  {
   "cell_type": "code",
   "execution_count": 9,
   "metadata": {
    "collapsed": false,
    "execution": {
     "iopub.execute_input": "2022-10-24T13:32:06.036508Z",
     "iopub.status.busy": "2022-10-24T13:32:06.035765Z",
     "iopub.status.idle": "2022-10-24T13:32:06.046514Z",
     "shell.execute_reply": "2022-10-24T13:32:06.043740Z",
     "shell.execute_reply.started": "2022-10-24T13:32:06.036459Z"
    },
    "jupyter": {
     "outputs_hidden": false
    },
    "pycharm": {
     "name": "#%%\n"
    },
    "tags": []
   },
   "outputs": [
    {
     "name": "stdout",
     "output_type": "stream",
     "text": [
      "---------------------------\n",
      "variables to migrate:\n",
      "b 28\n",
      "y 28\n",
      "z 28\n",
      "x 28\n",
      "a 28\n",
      "---------------------------\n",
      "variables to recompute:\n",
      "random 72\n",
      "func 144\n",
      "np 72\n",
      "---------------------------\n",
      "OEs to recompute:\n",
      "2 0.0009961128234863281\n",
      "4 0.0010082721710205078\n",
      "Checkpoint saved to: checkpoints/simple.pickle\n"
     ]
    }
   ],
   "source": [
    "%Checkpoint checkpoints/simple.pickle\n"
   ]
  }
 ],
 "metadata": {
  "kernelspec": {
   "display_name": "Python 3.10.7 ('.env': venv)",
   "language": "python",
   "name": "python3"
  },
  "language_info": {
   "codemirror_mode": {
    "name": "ipython",
    "version": 3
   },
   "file_extension": ".py",
   "mimetype": "text/x-python",
   "name": "python",
   "nbconvert_exporter": "python",
   "pygments_lexer": "ipython3",
   "version": "3.10.7"
  },
  "vscode": {
   "interpreter": {
    "hash": "831878006862ccc20c8644a68163e333be809b5fee14b33e0a32c4838e696fe8"
   }
  }
 },
 "nbformat": 4,
 "nbformat_minor": 4
}