{
 "cells": [
  {
   "cell_type": "code",
   "execution_count": 1,
   "metadata": {
    "collapsed": true,
    "pycharm": {
     "name": "#%%\n"
    }
   },
   "outputs": [],
   "source": [
    "import sys, os\n",
    "sys.path.insert(0, os.path.abspath(\"../..\"))\n",
    "%load_ext ElasticNotebook"
   ]
  },
  {
   "cell_type": "code",
   "execution_count": 2,
   "outputs": [
    {
     "name": "stdout",
     "output_type": "stream",
     "text": [
      "Declaring variable KNeighborsClassifier\n",
      "Declaring variable np\n",
      "Declaring variable datasets\n",
      "Declaring variable iris_X\n",
      "Declaring variable iris_y\n",
      "Declaring variable iris_X_train\n",
      "Declaring variable iris_y_train\n",
      "Declaring variable iris_y_test\n",
      "Declaring variable iris_X_test\n",
      "Declaring variable indices\n",
      "Declaring variable knn\n"
     ]
    }
   ],
   "source": [
    "# Load the checkpointed notebook here\n",
    "%LoadCheckpoint checkpoints/numpy.pickle"
   ],
   "metadata": {
    "collapsed": false,
    "pycharm": {
     "name": "#%%\n"
    }
   }
  },
  {
   "cell_type": "code",
   "execution_count": 3,
   "outputs": [
    {
     "name": "stdout",
     "output_type": "stream",
     "text": [
      "KNeighborsClassifier\t datasets\t indices\t iris_X\t iris_X_test\t iris_X_train\t iris_y\t iris_y_test\t iris_y_train\t \n",
      "knn\t np\t os\t pydev_jupyter_vars\t remove_imported_pydev_package\t sys\t \n"
     ]
    }
   ],
   "source": [
    "# See all variables have restored.\n",
    "%who\n"
   ],
   "metadata": {
    "collapsed": false,
    "pycharm": {
     "name": "#%%\n"
    }
   }
  },
  {
   "cell_type": "code",
   "execution_count": 4,
   "outputs": [
    {
     "name": "stdout",
     "output_type": "stream",
     "text": [
      "KNeighborsClassifier\n",
      "np\n",
      "datasets\n",
      "iris_X\n",
      "iris_y\n",
      "iris_X_test\n",
      "indices\n",
      "iris_X_train\n",
      "iris_y_test\n",
      "iris_y_train\n",
      "knn\n",
      "modified variables: {'indices'}\n"
     ]
    }
   ],
   "source": [
    "%%RecordEvent\n",
    "indices = 234"
   ],
   "metadata": {
    "collapsed": false,
    "pycharm": {
     "name": "#%%\n"
    }
   }
  },
  {
   "cell_type": "code",
   "execution_count": null,
   "outputs": [],
   "source": [],
   "metadata": {
    "collapsed": false,
    "pycharm": {
     "name": "#%%\n"
    }
   }
  }
 ],
 "metadata": {
  "kernelspec": {
   "display_name": "Python 3",
   "language": "python",
   "name": "python3"
  },
  "language_info": {
   "codemirror_mode": {
    "name": "ipython",
    "version": 2
   },
   "file_extension": ".py",
   "mimetype": "text/x-python",
   "name": "python",
   "nbconvert_exporter": "python",
   "pygments_lexer": "ipython2",
   "version": "2.7.6"
  }
 },
 "nbformat": 4,
 "nbformat_minor": 0
}